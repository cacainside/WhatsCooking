{
 "cells": [
  {
   "cell_type": "markdown",
   "metadata": {},
   "source": [
    "### Data Exploration"
   ]
  },
  {
   "cell_type": "markdown",
   "metadata": {},
   "source": [
    "### Training Data - Data Exploration"
   ]
  },
  {
   "cell_type": "code",
   "execution_count": 66,
   "metadata": {},
   "outputs": [
    {
     "data": {
      "text/html": [
       "<div>\n",
       "<style>\n",
       "    .dataframe thead tr:only-child th {\n",
       "        text-align: right;\n",
       "    }\n",
       "\n",
       "    .dataframe thead th {\n",
       "        text-align: left;\n",
       "    }\n",
       "\n",
       "    .dataframe tbody tr th {\n",
       "        vertical-align: top;\n",
       "    }\n",
       "</style>\n",
       "<table border=\"1\" class=\"dataframe\">\n",
       "  <thead>\n",
       "    <tr style=\"text-align: right;\">\n",
       "      <th></th>\n",
       "      <th>cuisine</th>\n",
       "      <th>id</th>\n",
       "      <th>ingredients</th>\n",
       "    </tr>\n",
       "  </thead>\n",
       "  <tbody>\n",
       "    <tr>\n",
       "      <th>0</th>\n",
       "      <td>greek</td>\n",
       "      <td>10259</td>\n",
       "      <td>[romaine lettuce, black olives, grape tomatoes...</td>\n",
       "    </tr>\n",
       "    <tr>\n",
       "      <th>1</th>\n",
       "      <td>southern_us</td>\n",
       "      <td>25693</td>\n",
       "      <td>[plain flour, ground pepper, salt, tomatoes, g...</td>\n",
       "    </tr>\n",
       "    <tr>\n",
       "      <th>2</th>\n",
       "      <td>filipino</td>\n",
       "      <td>20130</td>\n",
       "      <td>[eggs, pepper, salt, mayonaise, cooking oil, g...</td>\n",
       "    </tr>\n",
       "    <tr>\n",
       "      <th>3</th>\n",
       "      <td>indian</td>\n",
       "      <td>22213</td>\n",
       "      <td>[water, vegetable oil, wheat, salt]</td>\n",
       "    </tr>\n",
       "    <tr>\n",
       "      <th>4</th>\n",
       "      <td>indian</td>\n",
       "      <td>13162</td>\n",
       "      <td>[black pepper, shallots, cornflour, cayenne pe...</td>\n",
       "    </tr>\n",
       "  </tbody>\n",
       "</table>\n",
       "</div>"
      ],
      "text/plain": [
       "       cuisine     id                                        ingredients\n",
       "0        greek  10259  [romaine lettuce, black olives, grape tomatoes...\n",
       "1  southern_us  25693  [plain flour, ground pepper, salt, tomatoes, g...\n",
       "2     filipino  20130  [eggs, pepper, salt, mayonaise, cooking oil, g...\n",
       "3       indian  22213                [water, vegetable oil, wheat, salt]\n",
       "4       indian  13162  [black pepper, shallots, cornflour, cayenne pe..."
      ]
     },
     "execution_count": 66,
     "metadata": {},
     "output_type": "execute_result"
    }
   ],
   "source": [
    "import pandas as pd\n",
    "train_data_dataFrame = pd.read_json(\"train.json\")\n",
    "train_data_dataFrame.head()\n",
    "# read traning data and show "
   ]
  },
  {
   "cell_type": "code",
   "execution_count": 4,
   "metadata": {},
   "outputs": [
    {
     "data": {
      "text/plain": [
       "(39774, 3)"
      ]
     },
     "execution_count": 4,
     "metadata": {},
     "output_type": "execute_result"
    }
   ],
   "source": [
    "train_data_dataFrame.shape\n",
    "# traning data size"
   ]
  },
  {
   "cell_type": "code",
   "execution_count": 6,
   "metadata": {},
   "outputs": [
    {
     "data": {
      "text/plain": [
       "cuisine        0\n",
       "id             0\n",
       "ingredients    0\n",
       "dtype: int64"
      ]
     },
     "execution_count": 6,
     "metadata": {},
     "output_type": "execute_result"
    }
   ],
   "source": [
    "train_data_dataFrame.isnull().sum()\n",
    "# traning data null"
   ]
  },
  {
   "cell_type": "code",
   "execution_count": 8,
   "metadata": {},
   "outputs": [
    {
     "data": {
      "text/plain": [
       "count                                                 39774\n",
       "unique                                                39674\n",
       "top       [cold water, lime, sugar, sweetened condensed ...\n",
       "freq                                                      3\n",
       "Name: ingredients, dtype: object"
      ]
     },
     "execution_count": 8,
     "metadata": {},
     "output_type": "execute_result"
    }
   ],
   "source": [
    "# traning data each describe\n",
    "train_data_dataFrame['ingredients'].describe()\n"
   ]
  },
  {
   "cell_type": "code",
   "execution_count": 10,
   "metadata": {},
   "outputs": [
    {
     "data": {
      "text/plain": [
       "count       39774\n",
       "unique         20\n",
       "top       italian\n",
       "freq         7838\n",
       "Name: cuisine, dtype: object"
      ]
     },
     "execution_count": 10,
     "metadata": {},
     "output_type": "execute_result"
    }
   ],
   "source": [
    "train_data_dataFrame['cuisine'].describe()"
   ]
  },
  {
   "cell_type": "code",
   "execution_count": 11,
   "metadata": {},
   "outputs": [
    {
     "data": {
      "text/plain": [
       "count    39774.000000\n",
       "mean     24849.536959\n",
       "std      14360.035505\n",
       "min          0.000000\n",
       "25%      12398.250000\n",
       "50%      24887.000000\n",
       "75%      37328.500000\n",
       "max      49717.000000\n",
       "Name: id, dtype: float64"
      ]
     },
     "execution_count": 11,
     "metadata": {},
     "output_type": "execute_result"
    }
   ],
   "source": [
    "train_data_dataFrame['id'].describe()"
   ]
  },
  {
   "cell_type": "markdown",
   "metadata": {},
   "source": [
    "### Exploratory Visualization"
   ]
  },
  {
   "cell_type": "code",
   "execution_count": 12,
   "metadata": {},
   "outputs": [
    {
     "data": {
      "text/plain": [
       "<matplotlib.axes._subplots.AxesSubplot at 0xd828630>"
      ]
     },
     "execution_count": 12,
     "metadata": {},
     "output_type": "execute_result"
    },
    {
     "data": {
      "image/png": "[encoded data removed]",
      "text/plain": [
       "<matplotlib.figure.Figure at 0xda4ae48>"
      ]
     },
     "metadata": {},
     "output_type": "display_data"
    }
   ],
   "source": [
    "#check each cuisine item count\n",
    "%matplotlib inline\n",
    "import matplotlib.pyplot as plt\n",
    "plt.style.use('ggplot')\n",
    "train_data_dataFrame['cuisine'].value_counts().plot(kind='bar')"
   ]
  },
  {
   "cell_type": "code",
   "execution_count": 13,
   "metadata": {},
   "outputs": [
    {
     "data": {
      "text/plain": [
       "italian         7838\n",
       "mexican         6438\n",
       "southern_us     4320\n",
       "indian          3003\n",
       "chinese         2673\n",
       "french          2646\n",
       "cajun_creole    1546\n",
       "thai            1539\n",
       "japanese        1423\n",
       "greek           1175\n",
       "spanish          989\n",
       "korean           830\n",
       "vietnamese       825\n",
       "moroccan         821\n",
       "british          804\n",
       "filipino         755\n",
       "irish            667\n",
       "jamaican         526\n",
       "russian          489\n",
       "brazilian        467\n",
       "Name: cuisine, dtype: int64"
      ]
     },
     "execution_count": 13,
     "metadata": {},
     "output_type": "execute_result"
    }
   ],
   "source": [
    "train_data_dataFrame['cuisine'].value_counts()"
   ]
  },
  {
   "cell_type": "code",
   "execution_count": 14,
   "metadata": {
    "collapsed": true
   },
   "outputs": [],
   "source": [
    "from collections import Counter\n",
    "counters = {}\n",
    "for cuisine in train_data_dataFrame['cuisine'].unique():\n",
    "    counters[cuisine] = Counter()\n",
    "    indices = (train_data_dataFrame['cuisine'] == cuisine)\n",
    "    for ingredients in train_data_dataFrame[indices]['ingredients']:\n",
    "        counters[cuisine].update(ingredients)"
   ]
  },
  {
   "cell_type": "code",
   "execution_count": 15,
   "metadata": {
    "collapsed": true
   },
   "outputs": [],
   "source": [
    "top10 = pd.DataFrame([[items[0] for items in counters[cuisine].most_common(10)] for cuisine in counters],\n",
    "            index=[cuisine for cuisine in counters],\n",
    "            columns=['top{}'.format(i) for i in range(1, 11)])\n"
   ]
  },
  {
   "cell_type": "code",
   "execution_count": 16,
   "metadata": {},
   "outputs": [
    {
     "data": {
      "text/html": [
       "<div>\n",
       "<style>\n",
       "    .dataframe thead tr:only-child th {\n",
       "        text-align: right;\n",
       "    }\n",
       "\n",
       "    .dataframe thead th {\n",
       "        text-align: left;\n",
       "    }\n",
       "\n",
       "    .dataframe tbody tr th {\n",
       "        vertical-align: top;\n",
       "    }\n",
       "</style>\n",
       "<table border=\"1\" class=\"dataframe\">\n",
       "  <thead>\n",
       "    <tr style=\"text-align: right;\">\n",
       "      <th></th>\n",
       "      <th>top1</th>\n",
       "      <th>top2</th>\n",
       "      <th>top3</th>\n",
       "      <th>top4</th>\n",
       "      <th>top5</th>\n",
       "      <th>top6</th>\n",
       "      <th>top7</th>\n",
       "      <th>top8</th>\n",
       "      <th>top9</th>\n",
       "      <th>top10</th>\n",
       "    </tr>\n",
       "  </thead>\n",
       "  <tbody>\n",
       "    <tr>\n",
       "      <th>irish</th>\n",
       "      <td>salt</td>\n",
       "      <td>butter</td>\n",
       "      <td>all-purpose flour</td>\n",
       "      <td>onions</td>\n",
       "      <td>potatoes</td>\n",
       "      <td>sugar</td>\n",
       "      <td>baking soda</td>\n",
       "      <td>baking powder</td>\n",
       "      <td>milk</td>\n",
       "      <td>carrots</td>\n",
       "    </tr>\n",
       "    <tr>\n",
       "      <th>mexican</th>\n",
       "      <td>salt</td>\n",
       "      <td>onions</td>\n",
       "      <td>ground cumin</td>\n",
       "      <td>garlic</td>\n",
       "      <td>olive oil</td>\n",
       "      <td>chili powder</td>\n",
       "      <td>jalapeno chilies</td>\n",
       "      <td>sour cream</td>\n",
       "      <td>avocado</td>\n",
       "      <td>corn tortillas</td>\n",
       "    </tr>\n",
       "    <tr>\n",
       "      <th>chinese</th>\n",
       "      <td>soy sauce</td>\n",
       "      <td>sesame oil</td>\n",
       "      <td>salt</td>\n",
       "      <td>corn starch</td>\n",
       "      <td>sugar</td>\n",
       "      <td>garlic</td>\n",
       "      <td>water</td>\n",
       "      <td>green onions</td>\n",
       "      <td>vegetable oil</td>\n",
       "      <td>scallions</td>\n",
       "    </tr>\n",
       "    <tr>\n",
       "      <th>filipino</th>\n",
       "      <td>salt</td>\n",
       "      <td>garlic</td>\n",
       "      <td>water</td>\n",
       "      <td>onions</td>\n",
       "      <td>soy sauce</td>\n",
       "      <td>pepper</td>\n",
       "      <td>oil</td>\n",
       "      <td>sugar</td>\n",
       "      <td>carrots</td>\n",
       "      <td>ground black pepper</td>\n",
       "    </tr>\n",
       "    <tr>\n",
       "      <th>vietnamese</th>\n",
       "      <td>fish sauce</td>\n",
       "      <td>sugar</td>\n",
       "      <td>salt</td>\n",
       "      <td>garlic</td>\n",
       "      <td>water</td>\n",
       "      <td>carrots</td>\n",
       "      <td>soy sauce</td>\n",
       "      <td>shallots</td>\n",
       "      <td>garlic cloves</td>\n",
       "      <td>vegetable oil</td>\n",
       "    </tr>\n",
       "    <tr>\n",
       "      <th>moroccan</th>\n",
       "      <td>salt</td>\n",
       "      <td>olive oil</td>\n",
       "      <td>ground cumin</td>\n",
       "      <td>onions</td>\n",
       "      <td>ground cinnamon</td>\n",
       "      <td>garlic cloves</td>\n",
       "      <td>water</td>\n",
       "      <td>ground ginger</td>\n",
       "      <td>carrots</td>\n",
       "      <td>paprika</td>\n",
       "    </tr>\n",
       "    <tr>\n",
       "      <th>brazilian</th>\n",
       "      <td>salt</td>\n",
       "      <td>onions</td>\n",
       "      <td>olive oil</td>\n",
       "      <td>lime</td>\n",
       "      <td>water</td>\n",
       "      <td>garlic cloves</td>\n",
       "      <td>garlic</td>\n",
       "      <td>cachaca</td>\n",
       "      <td>sugar</td>\n",
       "      <td>tomatoes</td>\n",
       "    </tr>\n",
       "    <tr>\n",
       "      <th>japanese</th>\n",
       "      <td>soy sauce</td>\n",
       "      <td>salt</td>\n",
       "      <td>mirin</td>\n",
       "      <td>sugar</td>\n",
       "      <td>water</td>\n",
       "      <td>sake</td>\n",
       "      <td>rice vinegar</td>\n",
       "      <td>vegetable oil</td>\n",
       "      <td>scallions</td>\n",
       "      <td>ginger</td>\n",
       "    </tr>\n",
       "    <tr>\n",
       "      <th>british</th>\n",
       "      <td>salt</td>\n",
       "      <td>all-purpose flour</td>\n",
       "      <td>butter</td>\n",
       "      <td>milk</td>\n",
       "      <td>unsalted butter</td>\n",
       "      <td>eggs</td>\n",
       "      <td>sugar</td>\n",
       "      <td>onions</td>\n",
       "      <td>baking powder</td>\n",
       "      <td>large eggs</td>\n",
       "    </tr>\n",
       "    <tr>\n",
       "      <th>greek</th>\n",
       "      <td>salt</td>\n",
       "      <td>olive oil</td>\n",
       "      <td>dried oregano</td>\n",
       "      <td>garlic cloves</td>\n",
       "      <td>feta cheese crumbles</td>\n",
       "      <td>extra-virgin olive oil</td>\n",
       "      <td>fresh lemon juice</td>\n",
       "      <td>ground black pepper</td>\n",
       "      <td>garlic</td>\n",
       "      <td>pepper</td>\n",
       "    </tr>\n",
       "    <tr>\n",
       "      <th>indian</th>\n",
       "      <td>salt</td>\n",
       "      <td>onions</td>\n",
       "      <td>garam masala</td>\n",
       "      <td>water</td>\n",
       "      <td>ground turmeric</td>\n",
       "      <td>garlic</td>\n",
       "      <td>cumin seed</td>\n",
       "      <td>ground cumin</td>\n",
       "      <td>vegetable oil</td>\n",
       "      <td>oil</td>\n",
       "    </tr>\n",
       "    <tr>\n",
       "      <th>jamaican</th>\n",
       "      <td>salt</td>\n",
       "      <td>onions</td>\n",
       "      <td>water</td>\n",
       "      <td>garlic</td>\n",
       "      <td>ground allspice</td>\n",
       "      <td>pepper</td>\n",
       "      <td>scallions</td>\n",
       "      <td>dried thyme</td>\n",
       "      <td>black pepper</td>\n",
       "      <td>garlic cloves</td>\n",
       "    </tr>\n",
       "    <tr>\n",
       "      <th>french</th>\n",
       "      <td>salt</td>\n",
       "      <td>sugar</td>\n",
       "      <td>all-purpose flour</td>\n",
       "      <td>unsalted butter</td>\n",
       "      <td>olive oil</td>\n",
       "      <td>butter</td>\n",
       "      <td>water</td>\n",
       "      <td>large eggs</td>\n",
       "      <td>garlic cloves</td>\n",
       "      <td>ground black pepper</td>\n",
       "    </tr>\n",
       "    <tr>\n",
       "      <th>spanish</th>\n",
       "      <td>salt</td>\n",
       "      <td>olive oil</td>\n",
       "      <td>garlic cloves</td>\n",
       "      <td>extra-virgin olive oil</td>\n",
       "      <td>onions</td>\n",
       "      <td>water</td>\n",
       "      <td>tomatoes</td>\n",
       "      <td>ground black pepper</td>\n",
       "      <td>red bell pepper</td>\n",
       "      <td>pepper</td>\n",
       "    </tr>\n",
       "    <tr>\n",
       "      <th>russian</th>\n",
       "      <td>salt</td>\n",
       "      <td>sugar</td>\n",
       "      <td>onions</td>\n",
       "      <td>all-purpose flour</td>\n",
       "      <td>sour cream</td>\n",
       "      <td>eggs</td>\n",
       "      <td>water</td>\n",
       "      <td>butter</td>\n",
       "      <td>unsalted butter</td>\n",
       "      <td>large eggs</td>\n",
       "    </tr>\n",
       "    <tr>\n",
       "      <th>cajun_creole</th>\n",
       "      <td>salt</td>\n",
       "      <td>onions</td>\n",
       "      <td>garlic</td>\n",
       "      <td>green bell pepper</td>\n",
       "      <td>butter</td>\n",
       "      <td>olive oil</td>\n",
       "      <td>cayenne pepper</td>\n",
       "      <td>cajun seasoning</td>\n",
       "      <td>all-purpose flour</td>\n",
       "      <td>water</td>\n",
       "    </tr>\n",
       "    <tr>\n",
       "      <th>thai</th>\n",
       "      <td>fish sauce</td>\n",
       "      <td>garlic</td>\n",
       "      <td>salt</td>\n",
       "      <td>coconut milk</td>\n",
       "      <td>vegetable oil</td>\n",
       "      <td>soy sauce</td>\n",
       "      <td>sugar</td>\n",
       "      <td>water</td>\n",
       "      <td>garlic cloves</td>\n",
       "      <td>fresh lime juice</td>\n",
       "    </tr>\n",
       "    <tr>\n",
       "      <th>southern_us</th>\n",
       "      <td>salt</td>\n",
       "      <td>butter</td>\n",
       "      <td>all-purpose flour</td>\n",
       "      <td>sugar</td>\n",
       "      <td>large eggs</td>\n",
       "      <td>baking powder</td>\n",
       "      <td>water</td>\n",
       "      <td>unsalted butter</td>\n",
       "      <td>milk</td>\n",
       "      <td>buttermilk</td>\n",
       "    </tr>\n",
       "    <tr>\n",
       "      <th>korean</th>\n",
       "      <td>soy sauce</td>\n",
       "      <td>sesame oil</td>\n",
       "      <td>garlic</td>\n",
       "      <td>green onions</td>\n",
       "      <td>sugar</td>\n",
       "      <td>salt</td>\n",
       "      <td>water</td>\n",
       "      <td>sesame seeds</td>\n",
       "      <td>onions</td>\n",
       "      <td>scallions</td>\n",
       "    </tr>\n",
       "    <tr>\n",
       "      <th>italian</th>\n",
       "      <td>salt</td>\n",
       "      <td>olive oil</td>\n",
       "      <td>garlic cloves</td>\n",
       "      <td>grated parmesan cheese</td>\n",
       "      <td>garlic</td>\n",
       "      <td>ground black pepper</td>\n",
       "      <td>extra-virgin olive oil</td>\n",
       "      <td>onions</td>\n",
       "      <td>water</td>\n",
       "      <td>butter</td>\n",
       "    </tr>\n",
       "  </tbody>\n",
       "</table>\n",
       "</div>"
      ],
      "text/plain": [
       "                    top1               top2               top3  \\\n",
       "irish               salt             butter  all-purpose flour   \n",
       "mexican             salt             onions       ground cumin   \n",
       "chinese        soy sauce         sesame oil               salt   \n",
       "filipino            salt             garlic              water   \n",
       "vietnamese    fish sauce              sugar               salt   \n",
       "moroccan            salt          olive oil       ground cumin   \n",
       "brazilian           salt             onions          olive oil   \n",
       "japanese       soy sauce               salt              mirin   \n",
       "british             salt  all-purpose flour             butter   \n",
       "greek               salt          olive oil      dried oregano   \n",
       "indian              salt             onions       garam masala   \n",
       "jamaican            salt             onions              water   \n",
       "french              salt              sugar  all-purpose flour   \n",
       "spanish             salt          olive oil      garlic cloves   \n",
       "russian             salt              sugar             onions   \n",
       "cajun_creole        salt             onions             garlic   \n",
       "thai          fish sauce             garlic               salt   \n",
       "southern_us         salt             butter  all-purpose flour   \n",
       "korean         soy sauce         sesame oil             garlic   \n",
       "italian             salt          olive oil      garlic cloves   \n",
       "\n",
       "                                top4                  top5  \\\n",
       "irish                         onions              potatoes   \n",
       "mexican                       garlic             olive oil   \n",
       "chinese                  corn starch                 sugar   \n",
       "filipino                      onions             soy sauce   \n",
       "vietnamese                    garlic                 water   \n",
       "moroccan                      onions       ground cinnamon   \n",
       "brazilian                       lime                 water   \n",
       "japanese                       sugar                 water   \n",
       "british                         milk       unsalted butter   \n",
       "greek                  garlic cloves  feta cheese crumbles   \n",
       "indian                         water       ground turmeric   \n",
       "jamaican                      garlic       ground allspice   \n",
       "french               unsalted butter             olive oil   \n",
       "spanish       extra-virgin olive oil                onions   \n",
       "russian            all-purpose flour            sour cream   \n",
       "cajun_creole       green bell pepper                butter   \n",
       "thai                    coconut milk         vegetable oil   \n",
       "southern_us                    sugar            large eggs   \n",
       "korean                  green onions                 sugar   \n",
       "italian       grated parmesan cheese                garlic   \n",
       "\n",
       "                                top6                    top7  \\\n",
       "irish                          sugar             baking soda   \n",
       "mexican                 chili powder        jalapeno chilies   \n",
       "chinese                       garlic                   water   \n",
       "filipino                      pepper                     oil   \n",
       "vietnamese                   carrots               soy sauce   \n",
       "moroccan               garlic cloves                   water   \n",
       "brazilian              garlic cloves                  garlic   \n",
       "japanese                        sake            rice vinegar   \n",
       "british                         eggs                   sugar   \n",
       "greek         extra-virgin olive oil       fresh lemon juice   \n",
       "indian                        garlic              cumin seed   \n",
       "jamaican                      pepper               scallions   \n",
       "french                        butter                   water   \n",
       "spanish                        water                tomatoes   \n",
       "russian                         eggs                   water   \n",
       "cajun_creole               olive oil          cayenne pepper   \n",
       "thai                       soy sauce                   sugar   \n",
       "southern_us            baking powder                   water   \n",
       "korean                          salt                   water   \n",
       "italian          ground black pepper  extra-virgin olive oil   \n",
       "\n",
       "                             top8               top9                top10  \n",
       "irish               baking powder               milk              carrots  \n",
       "mexican                sour cream            avocado       corn tortillas  \n",
       "chinese              green onions      vegetable oil            scallions  \n",
       "filipino                    sugar            carrots  ground black pepper  \n",
       "vietnamese               shallots      garlic cloves        vegetable oil  \n",
       "moroccan            ground ginger            carrots              paprika  \n",
       "brazilian                 cachaca              sugar             tomatoes  \n",
       "japanese            vegetable oil          scallions               ginger  \n",
       "british                    onions      baking powder           large eggs  \n",
       "greek         ground black pepper             garlic               pepper  \n",
       "indian               ground cumin      vegetable oil                  oil  \n",
       "jamaican              dried thyme       black pepper        garlic cloves  \n",
       "french                 large eggs      garlic cloves  ground black pepper  \n",
       "spanish       ground black pepper    red bell pepper               pepper  \n",
       "russian                    butter    unsalted butter           large eggs  \n",
       "cajun_creole      cajun seasoning  all-purpose flour                water  \n",
       "thai                        water      garlic cloves     fresh lime juice  \n",
       "southern_us       unsalted butter               milk           buttermilk  \n",
       "korean               sesame seeds             onions            scallions  \n",
       "italian                    onions              water               butter  "
      ]
     },
     "execution_count": 16,
     "metadata": {},
     "output_type": "execute_result"
    }
   ],
   "source": [
    "# check top 10 ingredient in each cuisine\n",
    "top10"
   ]
  },
  {
   "cell_type": "code",
   "execution_count": 25,
   "metadata": {},
   "outputs": [
    {
     "data": {
      "text/plain": [
       "200"
      ]
     },
     "execution_count": 25,
     "metadata": {},
     "output_type": "execute_result"
    }
   ],
   "source": [
    "# check top 10 ingredient in each cuisine\n",
    "import numpy as np\n",
    "OneDArrayTop10 = []\n",
    "OneDArrayTop10 = top10.values.ravel()\n",
    "len(OneDArrayTop10)"
   ]
  },
  {
   "cell_type": "code",
   "execution_count": 29,
   "metadata": {},
   "outputs": [
    {
     "data": {
      "text/plain": [
       "array([u'all-purpose flour', u'avocado', u'baking powder', u'baking soda',\n",
       "       u'black pepper', u'butter', u'buttermilk', u'cachaca',\n",
       "       u'cajun seasoning', u'carrots', u'cayenne pepper', u'chili powder',\n",
       "       u'coconut milk', u'corn starch', u'corn tortillas', u'cumin seed',\n",
       "       u'dried oregano', u'dried thyme', u'eggs',\n",
       "       u'extra-virgin olive oil', u'feta cheese crumbles', u'fish sauce',\n",
       "       u'fresh lemon juice', u'fresh lime juice', u'garam masala',\n",
       "       u'garlic', u'garlic cloves', u'ginger', u'grated parmesan cheese',\n",
       "       u'green bell pepper', u'green onions', u'ground allspice',\n",
       "       u'ground black pepper', u'ground cinnamon', u'ground cumin',\n",
       "       u'ground ginger', u'ground turmeric', u'jalapeno chilies',\n",
       "       u'large eggs', u'lime', u'milk', u'mirin', u'oil', u'olive oil',\n",
       "       u'onions', u'paprika', u'pepper', u'potatoes', u'red bell pepper',\n",
       "       u'rice vinegar', u'sake', u'salt', u'scallions', u'sesame oil',\n",
       "       u'sesame seeds', u'shallots', u'sour cream', u'soy sauce', u'sugar',\n",
       "       u'tomatoes', u'unsalted butter', u'vegetable oil', u'water'], dtype=object)"
      ]
     },
     "execution_count": 29,
     "metadata": {},
     "output_type": "execute_result"
    }
   ],
   "source": [
    "# check unique ingredients of top 10\n",
    "uniqueIngredientArray = np.unique(OneDArrayTop10)\n",
    "uniqueIngredientArray\n"
   ]
  },
  {
   "cell_type": "code",
   "execution_count": 28,
   "metadata": {},
   "outputs": [
    {
     "data": {
      "text/plain": [
       "63"
      ]
     },
     "execution_count": 28,
     "metadata": {},
     "output_type": "execute_result"
    }
   ],
   "source": [
    "len(uniqueIngredientArray)"
   ]
  },
  {
   "cell_type": "markdown",
   "metadata": {},
   "source": [
    "* From the above result, we can see many similar ingredients, based on my google result, I list this can be seens as the same, and I will assign it as same while data preprocessing\n",
    "\n",
    "    * scallions = Green Onions [1]\n",
    "    * black pepper = pepper [2]\n",
    "    * eggs = large eggs [3]\n",
    "    * extra-virgin olive oil = olive oil [4]\n",
    "    * garlic = garlic cloves\n",
    "    \n",
    "    [1] https://www.thekitchn.com/whats-the-difference-between-spring-onions-scallions-and-green-onions-word-of-mouth-217111\n",
    "    [2] https://www.chefsteps.com/ingredients/black-pepper\n",
    "    [3] https://www.thespruceeats.com/egg-size-conversions-1328750\n",
    "    [4] https://www.thekitchn.com/whats-the-difference-between-olive-oil-and-extra-virgin-olive-oil-word-of-mouth-218767\n",
    "   "
   ]
  },
  {
   "cell_type": "markdown",
   "metadata": {},
   "source": [
    "### Data Preprocessing"
   ]
  },
  {
   "cell_type": "code",
   "execution_count": 67,
   "metadata": {},
   "outputs": [],
   "source": [
    "# assign same ingredient\n",
    "# Stemmer\n",
    "# Capitalize\n",
    "import numpy as np\n",
    "from nltk.stem import PorterStemmer\n",
    "porterStemmer = PorterStemmer()\n",
    "addThis = np.zeros(train_data_dataFrame.shape[0], dtype = object)\n",
    "for index,ingredientList in train_data_dataFrame.iterrows() :\n",
    "    processedIngredientList=[]\n",
    "    #addThis = np.zeros(train_data_dataFrame.shape[0])\n",
    "\n",
    "    for eachIngredient in ingredientList['ingredients']:\n",
    "        #print eachIngredient\n",
    "        # scallions = Green Onions\n",
    "        if eachIngredient == 'green onions':\n",
    "            eachIngredient='scallions'\n",
    "        if eachIngredient == 'black pepper':\n",
    "            eachIngredient='pepper'\n",
    "        if eachIngredient == 'extra-virgin olive oil':\n",
    "            eachIngredient = 'olive oil'\n",
    "        if eachIngredient == 'large eggs':\n",
    "            eachIngredient = 'eggs'\n",
    "        if eachIngredient == 'garlic cloves':\n",
    "            eachIngredient = 'garlic'\n",
    "        eachIngredient = porterStemmer.stem(eachIngredient)\n",
    "        eachIngredient = eachIngredient.capitalize()\n",
    "        processedIngredientList.append(eachIngredient)\n",
    "    addThis[index] = processedIngredientList\n",
    "train_data_dataFrame.insert(3,'processedIngredient', addThis)\n",
    "    #print train_data_dataFrame.iloc[index]['processedIngredient']"
   ]
  },
  {
   "cell_type": "code",
   "execution_count": 68,
   "metadata": {},
   "outputs": [
    {
     "data": {
      "text/html": [
       "<div>\n",
       "<style>\n",
       "    .dataframe thead tr:only-child th {\n",
       "        text-align: right;\n",
       "    }\n",
       "\n",
       "    .dataframe thead th {\n",
       "        text-align: left;\n",
       "    }\n",
       "\n",
       "    .dataframe tbody tr th {\n",
       "        vertical-align: top;\n",
       "    }\n",
       "</style>\n",
       "<table border=\"1\" class=\"dataframe\">\n",
       "  <thead>\n",
       "    <tr style=\"text-align: right;\">\n",
       "      <th></th>\n",
       "      <th>cuisine</th>\n",
       "      <th>id</th>\n",
       "      <th>ingredients</th>\n",
       "      <th>processedIngredient</th>\n",
       "    </tr>\n",
       "  </thead>\n",
       "  <tbody>\n",
       "    <tr>\n",
       "      <th>0</th>\n",
       "      <td>greek</td>\n",
       "      <td>10259</td>\n",
       "      <td>[romaine lettuce, black olives, grape tomatoes...</td>\n",
       "      <td>[Romaine lettuc, Black ol, Grape tomato, Garli...</td>\n",
       "    </tr>\n",
       "    <tr>\n",
       "      <th>1</th>\n",
       "      <td>southern_us</td>\n",
       "      <td>25693</td>\n",
       "      <td>[plain flour, ground pepper, salt, tomatoes, g...</td>\n",
       "      <td>[Plain flour, Ground pepp, Salt, Tomato, Groun...</td>\n",
       "    </tr>\n",
       "    <tr>\n",
       "      <th>2</th>\n",
       "      <td>filipino</td>\n",
       "      <td>20130</td>\n",
       "      <td>[eggs, pepper, salt, mayonaise, cooking oil, g...</td>\n",
       "      <td>[Egg, Pepper, Salt, Mayonais, Cooking oil, Gre...</td>\n",
       "    </tr>\n",
       "    <tr>\n",
       "      <th>3</th>\n",
       "      <td>indian</td>\n",
       "      <td>22213</td>\n",
       "      <td>[water, vegetable oil, wheat, salt]</td>\n",
       "      <td>[Water, Vegetable oil, Wheat, Salt]</td>\n",
       "    </tr>\n",
       "    <tr>\n",
       "      <th>4</th>\n",
       "      <td>indian</td>\n",
       "      <td>13162</td>\n",
       "      <td>[black pepper, shallots, cornflour, cayenne pe...</td>\n",
       "      <td>[Pepper, Shallot, Cornflour, Cayenne pepp, Oni...</td>\n",
       "    </tr>\n",
       "  </tbody>\n",
       "</table>\n",
       "</div>"
      ],
      "text/plain": [
       "       cuisine     id                                        ingredients  \\\n",
       "0        greek  10259  [romaine lettuce, black olives, grape tomatoes...   \n",
       "1  southern_us  25693  [plain flour, ground pepper, salt, tomatoes, g...   \n",
       "2     filipino  20130  [eggs, pepper, salt, mayonaise, cooking oil, g...   \n",
       "3       indian  22213                [water, vegetable oil, wheat, salt]   \n",
       "4       indian  13162  [black pepper, shallots, cornflour, cayenne pe...   \n",
       "\n",
       "                                 processedIngredient  \n",
       "0  [Romaine lettuc, Black ol, Grape tomato, Garli...  \n",
       "1  [Plain flour, Ground pepp, Salt, Tomato, Groun...  \n",
       "2  [Egg, Pepper, Salt, Mayonais, Cooking oil, Gre...  \n",
       "3                [Water, Vegetable oil, Wheat, Salt]  \n",
       "4  [Pepper, Shallot, Cornflour, Cayenne pepp, Oni...  "
      ]
     },
     "execution_count": 68,
     "metadata": {},
     "output_type": "execute_result"
    }
   ],
   "source": [
    "train_data_dataFrame.head()"
   ]
  },
  {
   "cell_type": "markdown",
   "metadata": {},
   "source": [
    "##### After proprocess, check if they work."
   ]
  },
  {
   "cell_type": "code",
   "execution_count": 27,
   "metadata": {
    "collapsed": true
   },
   "outputs": [],
   "source": [
    "from collections import Counter\n",
    "counters = {}\n",
    "for cuisine in train_data_dataFrame['cuisine'].unique():\n",
    "    counters[cuisine] = Counter()\n",
    "    indices = (train_data_dataFrame['cuisine'] == cuisine)\n",
    "    for ingredients in train_data_dataFrame[indices]['processedIngredient']:\n",
    "        counters[cuisine].update(ingredients)"
   ]
  },
  {
   "cell_type": "code",
   "execution_count": 28,
   "metadata": {
    "collapsed": true
   },
   "outputs": [],
   "source": [
    "top10_processed = pd.DataFrame([[items[0] for items in counters[cuisine].most_common(10)] for cuisine in counters],\n",
    "            index=[cuisine for cuisine in counters],\n",
    "            columns=['top{}'.format(i) for i in range(1, 11)])"
   ]
  },
  {
   "cell_type": "code",
   "execution_count": 29,
   "metadata": {},
   "outputs": [
    {
     "data": {
      "text/html": [
       "<div>\n",
       "<style>\n",
       "    .dataframe thead tr:only-child th {\n",
       "        text-align: right;\n",
       "    }\n",
       "\n",
       "    .dataframe thead th {\n",
       "        text-align: left;\n",
       "    }\n",
       "\n",
       "    .dataframe tbody tr th {\n",
       "        vertical-align: top;\n",
       "    }\n",
       "</style>\n",
       "<table border=\"1\" class=\"dataframe\">\n",
       "  <thead>\n",
       "    <tr style=\"text-align: right;\">\n",
       "      <th></th>\n",
       "      <th>top1</th>\n",
       "      <th>top2</th>\n",
       "      <th>top3</th>\n",
       "      <th>top4</th>\n",
       "      <th>top5</th>\n",
       "      <th>top6</th>\n",
       "      <th>top7</th>\n",
       "      <th>top8</th>\n",
       "      <th>top9</th>\n",
       "      <th>top10</th>\n",
       "    </tr>\n",
       "  </thead>\n",
       "  <tbody>\n",
       "    <tr>\n",
       "      <th>irish</th>\n",
       "      <td>Salt</td>\n",
       "      <td>Butter</td>\n",
       "      <td>All-purpose flour</td>\n",
       "      <td>Egg</td>\n",
       "      <td>Onion</td>\n",
       "      <td>Pepper</td>\n",
       "      <td>Sugar</td>\n",
       "      <td>Potato</td>\n",
       "      <td>Baking soda</td>\n",
       "      <td>Baking powd</td>\n",
       "    </tr>\n",
       "    <tr>\n",
       "      <th>mexican</th>\n",
       "      <td>Salt</td>\n",
       "      <td>Garlic</td>\n",
       "      <td>Olive oil</td>\n",
       "      <td>Onion</td>\n",
       "      <td>Ground cumin</td>\n",
       "      <td>Chili powd</td>\n",
       "      <td>Pepper</td>\n",
       "      <td>Jalapeno chili</td>\n",
       "      <td>Sour cream</td>\n",
       "      <td>Avocado</td>\n",
       "    </tr>\n",
       "    <tr>\n",
       "      <th>chinese</th>\n",
       "      <td>Soy sauc</td>\n",
       "      <td>Scallion</td>\n",
       "      <td>Garlic</td>\n",
       "      <td>Sesame oil</td>\n",
       "      <td>Salt</td>\n",
       "      <td>Corn starch</td>\n",
       "      <td>Sugar</td>\n",
       "      <td>Water</td>\n",
       "      <td>Vegetable oil</td>\n",
       "      <td>Ginger</td>\n",
       "    </tr>\n",
       "    <tr>\n",
       "      <th>filipino</th>\n",
       "      <td>Salt</td>\n",
       "      <td>Garlic</td>\n",
       "      <td>Onion</td>\n",
       "      <td>Water</td>\n",
       "      <td>Soy sauc</td>\n",
       "      <td>Pepper</td>\n",
       "      <td>Oil</td>\n",
       "      <td>Sugar</td>\n",
       "      <td>Carrot</td>\n",
       "      <td>Ground black pepp</td>\n",
       "    </tr>\n",
       "    <tr>\n",
       "      <th>vietnamese</th>\n",
       "      <td>Fish sauc</td>\n",
       "      <td>Garlic</td>\n",
       "      <td>Sugar</td>\n",
       "      <td>Salt</td>\n",
       "      <td>Water</td>\n",
       "      <td>Scallion</td>\n",
       "      <td>Carrot</td>\n",
       "      <td>Soy sauc</td>\n",
       "      <td>Shallot</td>\n",
       "      <td>Vegetable oil</td>\n",
       "    </tr>\n",
       "    <tr>\n",
       "      <th>moroccan</th>\n",
       "      <td>Olive oil</td>\n",
       "      <td>Salt</td>\n",
       "      <td>Garlic</td>\n",
       "      <td>Ground cumin</td>\n",
       "      <td>Onion</td>\n",
       "      <td>Ground cinnamon</td>\n",
       "      <td>Pepper</td>\n",
       "      <td>Water</td>\n",
       "      <td>Ground ging</td>\n",
       "      <td>Carrot</td>\n",
       "    </tr>\n",
       "    <tr>\n",
       "      <th>brazilian</th>\n",
       "      <td>Salt</td>\n",
       "      <td>Garlic</td>\n",
       "      <td>Onion</td>\n",
       "      <td>Olive oil</td>\n",
       "      <td>Lime</td>\n",
       "      <td>Water</td>\n",
       "      <td>Pepper</td>\n",
       "      <td>Cachaca</td>\n",
       "      <td>Egg</td>\n",
       "      <td>Sugar</td>\n",
       "    </tr>\n",
       "    <tr>\n",
       "      <th>japanese</th>\n",
       "      <td>Soy sauc</td>\n",
       "      <td>Salt</td>\n",
       "      <td>Scallion</td>\n",
       "      <td>Mirin</td>\n",
       "      <td>Sugar</td>\n",
       "      <td>Water</td>\n",
       "      <td>Sake</td>\n",
       "      <td>Rice vinegar</td>\n",
       "      <td>Garlic</td>\n",
       "      <td>Vegetable oil</td>\n",
       "    </tr>\n",
       "    <tr>\n",
       "      <th>british</th>\n",
       "      <td>Salt</td>\n",
       "      <td>Egg</td>\n",
       "      <td>All-purpose flour</td>\n",
       "      <td>Butter</td>\n",
       "      <td>Milk</td>\n",
       "      <td>Unsalted butt</td>\n",
       "      <td>Sugar</td>\n",
       "      <td>Onion</td>\n",
       "      <td>Baking powd</td>\n",
       "      <td>Pepper</td>\n",
       "    </tr>\n",
       "    <tr>\n",
       "      <th>greek</th>\n",
       "      <td>Olive oil</td>\n",
       "      <td>Salt</td>\n",
       "      <td>Garlic</td>\n",
       "      <td>Pepper</td>\n",
       "      <td>Dried oregano</td>\n",
       "      <td>Feta cheese crumbl</td>\n",
       "      <td>Fresh lemon juic</td>\n",
       "      <td>Ground black pepp</td>\n",
       "      <td>Feta chees</td>\n",
       "      <td>Cucumb</td>\n",
       "    </tr>\n",
       "    <tr>\n",
       "      <th>indian</th>\n",
       "      <td>Salt</td>\n",
       "      <td>Onion</td>\n",
       "      <td>Garlic</td>\n",
       "      <td>Garam masala</td>\n",
       "      <td>Water</td>\n",
       "      <td>Ground turmer</td>\n",
       "      <td>Cumin se</td>\n",
       "      <td>Ground cumin</td>\n",
       "      <td>Vegetable oil</td>\n",
       "      <td>Oil</td>\n",
       "    </tr>\n",
       "    <tr>\n",
       "      <th>jamaican</th>\n",
       "      <td>Salt</td>\n",
       "      <td>Garlic</td>\n",
       "      <td>Pepper</td>\n",
       "      <td>Scallion</td>\n",
       "      <td>Onion</td>\n",
       "      <td>Water</td>\n",
       "      <td>Ground allspic</td>\n",
       "      <td>Dried thym</td>\n",
       "      <td>Vegetable oil</td>\n",
       "      <td>Ground black pepp</td>\n",
       "    </tr>\n",
       "    <tr>\n",
       "      <th>french</th>\n",
       "      <td>Salt</td>\n",
       "      <td>Olive oil</td>\n",
       "      <td>Sugar</td>\n",
       "      <td>Garlic</td>\n",
       "      <td>Egg</td>\n",
       "      <td>All-purpose flour</td>\n",
       "      <td>Unsalted butt</td>\n",
       "      <td>Butter</td>\n",
       "      <td>Water</td>\n",
       "      <td>Ground black pepp</td>\n",
       "    </tr>\n",
       "    <tr>\n",
       "      <th>spanish</th>\n",
       "      <td>Olive oil</td>\n",
       "      <td>Salt</td>\n",
       "      <td>Garlic</td>\n",
       "      <td>Onion</td>\n",
       "      <td>Egg</td>\n",
       "      <td>Pepper</td>\n",
       "      <td>Water</td>\n",
       "      <td>Tomato</td>\n",
       "      <td>Ground black pepp</td>\n",
       "      <td>Red bell pepp</td>\n",
       "    </tr>\n",
       "    <tr>\n",
       "      <th>russian</th>\n",
       "      <td>Salt</td>\n",
       "      <td>Egg</td>\n",
       "      <td>Sugar</td>\n",
       "      <td>Onion</td>\n",
       "      <td>All-purpose flour</td>\n",
       "      <td>Sour cream</td>\n",
       "      <td>Water</td>\n",
       "      <td>Butter</td>\n",
       "      <td>Pepper</td>\n",
       "      <td>Unsalted butt</td>\n",
       "    </tr>\n",
       "    <tr>\n",
       "      <th>cajun_creole</th>\n",
       "      <td>Salt</td>\n",
       "      <td>Garlic</td>\n",
       "      <td>Onion</td>\n",
       "      <td>Olive oil</td>\n",
       "      <td>Pepper</td>\n",
       "      <td>Scallion</td>\n",
       "      <td>Green bell pepp</td>\n",
       "      <td>Butter</td>\n",
       "      <td>Cayenne pepp</td>\n",
       "      <td>Cajun season</td>\n",
       "    </tr>\n",
       "    <tr>\n",
       "      <th>thai</th>\n",
       "      <td>Garlic</td>\n",
       "      <td>Fish sauc</td>\n",
       "      <td>Salt</td>\n",
       "      <td>Scallion</td>\n",
       "      <td>Coconut milk</td>\n",
       "      <td>Vegetable oil</td>\n",
       "      <td>Soy sauc</td>\n",
       "      <td>Sugar</td>\n",
       "      <td>Water</td>\n",
       "      <td>Fresh lime juic</td>\n",
       "    </tr>\n",
       "    <tr>\n",
       "      <th>southern_us</th>\n",
       "      <td>Salt</td>\n",
       "      <td>Egg</td>\n",
       "      <td>Butter</td>\n",
       "      <td>All-purpose flour</td>\n",
       "      <td>Sugar</td>\n",
       "      <td>Pepper</td>\n",
       "      <td>Baking powd</td>\n",
       "      <td>Water</td>\n",
       "      <td>Unsalted butt</td>\n",
       "      <td>Milk</td>\n",
       "    </tr>\n",
       "    <tr>\n",
       "      <th>korean</th>\n",
       "      <td>Scallion</td>\n",
       "      <td>Garlic</td>\n",
       "      <td>Soy sauc</td>\n",
       "      <td>Sesame oil</td>\n",
       "      <td>Sugar</td>\n",
       "      <td>Salt</td>\n",
       "      <td>Water</td>\n",
       "      <td>Sesame se</td>\n",
       "      <td>Onion</td>\n",
       "      <td>Pepper</td>\n",
       "    </tr>\n",
       "    <tr>\n",
       "      <th>italian</th>\n",
       "      <td>Olive oil</td>\n",
       "      <td>Salt</td>\n",
       "      <td>Garlic</td>\n",
       "      <td>Pepper</td>\n",
       "      <td>Grated parmesan chees</td>\n",
       "      <td>Ground black pepp</td>\n",
       "      <td>Egg</td>\n",
       "      <td>Onion</td>\n",
       "      <td>Water</td>\n",
       "      <td>Butter</td>\n",
       "    </tr>\n",
       "  </tbody>\n",
       "</table>\n",
       "</div>"
      ],
      "text/plain": [
       "                   top1       top2               top3               top4  \\\n",
       "irish              Salt     Butter  All-purpose flour                Egg   \n",
       "mexican            Salt     Garlic          Olive oil              Onion   \n",
       "chinese        Soy sauc   Scallion             Garlic         Sesame oil   \n",
       "filipino           Salt     Garlic              Onion              Water   \n",
       "vietnamese    Fish sauc     Garlic              Sugar               Salt   \n",
       "moroccan      Olive oil       Salt             Garlic       Ground cumin   \n",
       "brazilian          Salt     Garlic              Onion          Olive oil   \n",
       "japanese       Soy sauc       Salt           Scallion              Mirin   \n",
       "british            Salt        Egg  All-purpose flour             Butter   \n",
       "greek         Olive oil       Salt             Garlic             Pepper   \n",
       "indian             Salt      Onion             Garlic       Garam masala   \n",
       "jamaican           Salt     Garlic             Pepper           Scallion   \n",
       "french             Salt  Olive oil              Sugar             Garlic   \n",
       "spanish       Olive oil       Salt             Garlic              Onion   \n",
       "russian            Salt        Egg              Sugar              Onion   \n",
       "cajun_creole       Salt     Garlic              Onion          Olive oil   \n",
       "thai             Garlic  Fish sauc               Salt           Scallion   \n",
       "southern_us        Salt        Egg             Butter  All-purpose flour   \n",
       "korean         Scallion     Garlic           Soy sauc         Sesame oil   \n",
       "italian       Olive oil       Salt             Garlic             Pepper   \n",
       "\n",
       "                               top5                top6              top7  \\\n",
       "irish                         Onion              Pepper             Sugar   \n",
       "mexican                Ground cumin          Chili powd            Pepper   \n",
       "chinese                        Salt         Corn starch             Sugar   \n",
       "filipino                   Soy sauc              Pepper               Oil   \n",
       "vietnamese                    Water            Scallion            Carrot   \n",
       "moroccan                      Onion     Ground cinnamon            Pepper   \n",
       "brazilian                      Lime               Water            Pepper   \n",
       "japanese                      Sugar               Water              Sake   \n",
       "british                        Milk       Unsalted butt             Sugar   \n",
       "greek                 Dried oregano  Feta cheese crumbl  Fresh lemon juic   \n",
       "indian                        Water       Ground turmer          Cumin se   \n",
       "jamaican                      Onion               Water    Ground allspic   \n",
       "french                          Egg   All-purpose flour     Unsalted butt   \n",
       "spanish                         Egg              Pepper             Water   \n",
       "russian           All-purpose flour          Sour cream             Water   \n",
       "cajun_creole                 Pepper            Scallion   Green bell pepp   \n",
       "thai                   Coconut milk       Vegetable oil          Soy sauc   \n",
       "southern_us                   Sugar              Pepper       Baking powd   \n",
       "korean                        Sugar                Salt             Water   \n",
       "italian       Grated parmesan chees   Ground black pepp               Egg   \n",
       "\n",
       "                           top8               top9              top10  \n",
       "irish                    Potato        Baking soda        Baking powd  \n",
       "mexican          Jalapeno chili         Sour cream            Avocado  \n",
       "chinese                   Water      Vegetable oil             Ginger  \n",
       "filipino                  Sugar             Carrot  Ground black pepp  \n",
       "vietnamese             Soy sauc            Shallot      Vegetable oil  \n",
       "moroccan                  Water        Ground ging             Carrot  \n",
       "brazilian               Cachaca                Egg              Sugar  \n",
       "japanese           Rice vinegar             Garlic      Vegetable oil  \n",
       "british                   Onion        Baking powd             Pepper  \n",
       "greek         Ground black pepp         Feta chees             Cucumb  \n",
       "indian             Ground cumin      Vegetable oil                Oil  \n",
       "jamaican             Dried thym      Vegetable oil  Ground black pepp  \n",
       "french                   Butter              Water  Ground black pepp  \n",
       "spanish                  Tomato  Ground black pepp      Red bell pepp  \n",
       "russian                  Butter             Pepper      Unsalted butt  \n",
       "cajun_creole             Butter       Cayenne pepp       Cajun season  \n",
       "thai                      Sugar              Water    Fresh lime juic  \n",
       "southern_us               Water      Unsalted butt               Milk  \n",
       "korean                Sesame se              Onion             Pepper  \n",
       "italian                   Onion              Water             Butter  "
      ]
     },
     "execution_count": 29,
     "metadata": {},
     "output_type": "execute_result"
    }
   ],
   "source": [
    "top10_processed"
   ]
  },
  {
   "cell_type": "code",
   "execution_count": 31,
   "metadata": {},
   "outputs": [
    {
     "data": {
      "text/plain": [
       "200"
      ]
     },
     "execution_count": 31,
     "metadata": {},
     "output_type": "execute_result"
    }
   ],
   "source": [
    "# check top 10 ingredient in each cuisine\n",
    "import numpy as np\n",
    "OneDArrayTop10 = []\n",
    "OneDArrayTop10 = top10_processed.values.ravel()\n",
    "len(OneDArrayTop10)"
   ]
  },
  {
   "cell_type": "code",
   "execution_count": 34,
   "metadata": {},
   "outputs": [
    {
     "data": {
      "text/plain": [
       "57"
      ]
     },
     "execution_count": 34,
     "metadata": {},
     "output_type": "execute_result"
    }
   ],
   "source": [
    "# check unique ingredients of top 10\n",
    "uniqueIngredientArray = np.unique(OneDArrayTop10)\n",
    "len(uniqueIngredientArray)"
   ]
  },
  {
   "cell_type": "code",
   "execution_count": 35,
   "metadata": {},
   "outputs": [
    {
     "data": {
      "text/plain": [
       "array([u'All-purpose flour', u'Avocado', u'Baking powd', u'Baking soda',\n",
       "       u'Butter', u'Cachaca', u'Cajun season', u'Carrot', u'Cayenne pepp',\n",
       "       u'Chili powd', u'Coconut milk', u'Corn starch', u'Cucumb',\n",
       "       u'Cumin se', u'Dried oregano', u'Dried thym', u'Egg', u'Feta chees',\n",
       "       u'Feta cheese crumbl', u'Fish sauc', u'Fresh lemon juic',\n",
       "       u'Fresh lime juic', u'Garam masala', 'Garlic', u'Ginger',\n",
       "       u'Grated parmesan chees', u'Green bell pepp', u'Ground allspic',\n",
       "       u'Ground black pepp', u'Ground cinnamon', u'Ground cumin',\n",
       "       u'Ground ging', u'Ground turmer', u'Jalapeno chili', u'Lime',\n",
       "       u'Milk', u'Mirin', u'Oil', u'Olive oil', u'Onion', 'Pepper',\n",
       "       u'Potato', u'Red bell pepp', u'Rice vinegar', u'Sake', u'Salt',\n",
       "       u'Scallion', u'Sesame oil', u'Sesame se', u'Shallot', u'Sour cream',\n",
       "       u'Soy sauc', u'Sugar', u'Tomato', u'Unsalted butt',\n",
       "       u'Vegetable oil', u'Water'], dtype=object)"
      ]
     },
     "execution_count": 35,
     "metadata": {},
     "output_type": "execute_result"
    }
   ],
   "source": [
    "uniqueIngredientArray"
   ]
  },
  {
   "cell_type": "markdown",
   "metadata": {},
   "source": [
    "##### After proprocess, we can see they work."
   ]
  },
  {
   "cell_type": "markdown",
   "metadata": {},
   "source": [
    "##### Do the same thing at testing data"
   ]
  },
  {
   "cell_type": "code",
   "execution_count": 39,
   "metadata": {},
   "outputs": [
    {
     "data": {
      "text/html": [
       "<div>\n",
       "<style>\n",
       "    .dataframe thead tr:only-child th {\n",
       "        text-align: right;\n",
       "    }\n",
       "\n",
       "    .dataframe thead th {\n",
       "        text-align: left;\n",
       "    }\n",
       "\n",
       "    .dataframe tbody tr th {\n",
       "        vertical-align: top;\n",
       "    }\n",
       "</style>\n",
       "<table border=\"1\" class=\"dataframe\">\n",
       "  <thead>\n",
       "    <tr style=\"text-align: right;\">\n",
       "      <th></th>\n",
       "      <th>id</th>\n",
       "      <th>ingredients</th>\n",
       "    </tr>\n",
       "  </thead>\n",
       "  <tbody>\n",
       "    <tr>\n",
       "      <th>0</th>\n",
       "      <td>18009</td>\n",
       "      <td>[baking powder, eggs, all-purpose flour, raisi...</td>\n",
       "    </tr>\n",
       "    <tr>\n",
       "      <th>1</th>\n",
       "      <td>28583</td>\n",
       "      <td>[sugar, egg yolks, corn starch, cream of tarta...</td>\n",
       "    </tr>\n",
       "    <tr>\n",
       "      <th>2</th>\n",
       "      <td>41580</td>\n",
       "      <td>[sausage links, fennel bulb, fronds, olive oil...</td>\n",
       "    </tr>\n",
       "    <tr>\n",
       "      <th>3</th>\n",
       "      <td>29752</td>\n",
       "      <td>[meat cuts, file powder, smoked sausage, okra,...</td>\n",
       "    </tr>\n",
       "    <tr>\n",
       "      <th>4</th>\n",
       "      <td>35687</td>\n",
       "      <td>[ground black pepper, salt, sausage casings, l...</td>\n",
       "    </tr>\n",
       "  </tbody>\n",
       "</table>\n",
       "</div>"
      ],
      "text/plain": [
       "      id                                        ingredients\n",
       "0  18009  [baking powder, eggs, all-purpose flour, raisi...\n",
       "1  28583  [sugar, egg yolks, corn starch, cream of tarta...\n",
       "2  41580  [sausage links, fennel bulb, fronds, olive oil...\n",
       "3  29752  [meat cuts, file powder, smoked sausage, okra,...\n",
       "4  35687  [ground black pepper, salt, sausage casings, l..."
      ]
     },
     "execution_count": 39,
     "metadata": {},
     "output_type": "execute_result"
    }
   ],
   "source": [
    "import pandas as pd\n",
    "test_data_dataframe = pd.read_json(\"test.json\")\n",
    "test_data_dataframe.head()"
   ]
  },
  {
   "cell_type": "code",
   "execution_count": 40,
   "metadata": {},
   "outputs": [
    {
     "data": {
      "text/plain": [
       "(9944, 2)"
      ]
     },
     "execution_count": 40,
     "metadata": {},
     "output_type": "execute_result"
    }
   ],
   "source": [
    "test_data_dataframe.shape"
   ]
  },
  {
   "cell_type": "code",
   "execution_count": 41,
   "metadata": {},
   "outputs": [
    {
     "data": {
      "text/plain": [
       "id             0\n",
       "ingredients    0\n",
       "dtype: int64"
      ]
     },
     "execution_count": 41,
     "metadata": {},
     "output_type": "execute_result"
    }
   ],
   "source": [
    "test_data_dataframe.isnull().sum()\n",
    "# traning data null"
   ]
  },
  {
   "cell_type": "code",
   "execution_count": 43,
   "metadata": {},
   "outputs": [],
   "source": [
    "# assign same ingredient\n",
    "# Stemmer\n",
    "# Capitalize\n",
    "import numpy as np\n",
    "from nltk.stem import PorterStemmer\n",
    "porterStemmer = PorterStemmer()\n",
    "addThis = np.zeros(test_data_dataframe.shape[0], dtype = object)\n",
    "for index,ingredientList in test_data_dataframe.iterrows() :\n",
    "    processedIngredientList=[]\n",
    "    #addThis = np.zeros(train_data_dataFrame.shape[0])\n",
    "\n",
    "    for eachIngredient in ingredientList['ingredients']:\n",
    "        #print eachIngredient\n",
    "        # scallions = Green Onions\n",
    "        if eachIngredient == 'green onions':\n",
    "            eachIngredient='scallions'\n",
    "        if eachIngredient == 'black pepper':\n",
    "            eachIngredient='pepper'\n",
    "        if eachIngredient == 'extra-virgin olive oil':\n",
    "            eachIngredient = 'olive oil'\n",
    "        if eachIngredient == 'large eggs':\n",
    "            eachIngredient = 'eggs'\n",
    "        if eachIngredient == 'garlic cloves':\n",
    "            eachIngredient = 'garlic'\n",
    "        eachIngredient = porterStemmer.stem(eachIngredient)\n",
    "        eachIngredient = eachIngredient.capitalize()\n",
    "        processedIngredientList.append(eachIngredient)\n",
    "    addThis[index] = processedIngredientList\n",
    "test_data_dataframe.insert(2,'processedIngredient', addThis)\n",
    "    #print train_data_dataFrame.iloc[index]['processedIngredient']"
   ]
  },
  {
   "cell_type": "code",
   "execution_count": 45,
   "metadata": {},
   "outputs": [
    {
     "data": {
      "text/html": [
       "<div>\n",
       "<style>\n",
       "    .dataframe thead tr:only-child th {\n",
       "        text-align: right;\n",
       "    }\n",
       "\n",
       "    .dataframe thead th {\n",
       "        text-align: left;\n",
       "    }\n",
       "\n",
       "    .dataframe tbody tr th {\n",
       "        vertical-align: top;\n",
       "    }\n",
       "</style>\n",
       "<table border=\"1\" class=\"dataframe\">\n",
       "  <thead>\n",
       "    <tr style=\"text-align: right;\">\n",
       "      <th></th>\n",
       "      <th>id</th>\n",
       "      <th>ingredients</th>\n",
       "      <th>processedIngredient</th>\n",
       "    </tr>\n",
       "  </thead>\n",
       "  <tbody>\n",
       "    <tr>\n",
       "      <th>0</th>\n",
       "      <td>18009</td>\n",
       "      <td>[baking powder, eggs, all-purpose flour, raisi...</td>\n",
       "      <td>[Baking powd, Egg, All-purpose flour, Raisin, ...</td>\n",
       "    </tr>\n",
       "    <tr>\n",
       "      <th>1</th>\n",
       "      <td>28583</td>\n",
       "      <td>[sugar, egg yolks, corn starch, cream of tarta...</td>\n",
       "      <td>[Sugar, Egg yolk, Corn starch, Cream of tartar...</td>\n",
       "    </tr>\n",
       "    <tr>\n",
       "      <th>2</th>\n",
       "      <td>41580</td>\n",
       "      <td>[sausage links, fennel bulb, fronds, olive oil...</td>\n",
       "      <td>[Sausage link, Fennel bulb, Frond, Olive oil, ...</td>\n",
       "    </tr>\n",
       "    <tr>\n",
       "      <th>3</th>\n",
       "      <td>29752</td>\n",
       "      <td>[meat cuts, file powder, smoked sausage, okra,...</td>\n",
       "      <td>[Meat cut, File powd, Smoked sausag, Okra, Shr...</td>\n",
       "    </tr>\n",
       "    <tr>\n",
       "      <th>4</th>\n",
       "      <td>35687</td>\n",
       "      <td>[ground black pepper, salt, sausage casings, l...</td>\n",
       "      <td>[Ground black pepp, Salt, Sausage cas, Leek, P...</td>\n",
       "    </tr>\n",
       "  </tbody>\n",
       "</table>\n",
       "</div>"
      ],
      "text/plain": [
       "      id                                        ingredients  \\\n",
       "0  18009  [baking powder, eggs, all-purpose flour, raisi...   \n",
       "1  28583  [sugar, egg yolks, corn starch, cream of tarta...   \n",
       "2  41580  [sausage links, fennel bulb, fronds, olive oil...   \n",
       "3  29752  [meat cuts, file powder, smoked sausage, okra,...   \n",
       "4  35687  [ground black pepper, salt, sausage casings, l...   \n",
       "\n",
       "                                 processedIngredient  \n",
       "0  [Baking powd, Egg, All-purpose flour, Raisin, ...  \n",
       "1  [Sugar, Egg yolk, Corn starch, Cream of tartar...  \n",
       "2  [Sausage link, Fennel bulb, Frond, Olive oil, ...  \n",
       "3  [Meat cut, File powd, Smoked sausag, Okra, Shr...  \n",
       "4  [Ground black pepp, Salt, Sausage cas, Leek, P...  "
      ]
     },
     "execution_count": 45,
     "metadata": {},
     "output_type": "execute_result"
    }
   ],
   "source": [
    "test_data_dataframe.head()"
   ]
  },
  {
   "cell_type": "code",
   "execution_count": 70,
   "metadata": {},
   "outputs": [],
   "source": [
    "from sklearn.feature_extraction.text import CountVectorizer\n",
    "cv = CountVectorizer()\n",
    "train_data_dataFrame['processedIngredient'] = train_data_dataFrame['processedIngredient'].map(\";\".join)\n",
    "X = cv.fit_transform(train_data_dataFrame['processedIngredient'])\n"
   ]
  },
  {
   "cell_type": "code",
   "execution_count": 75,
   "metadata": {},
   "outputs": [
    {
     "data": {
      "text/plain": [
       "(39774, 2978)"
      ]
     },
     "execution_count": 75,
     "metadata": {},
     "output_type": "execute_result"
    }
   ],
   "source": [
    "X.shape"
   ]
  },
  {
   "cell_type": "markdown",
   "metadata": {},
   "source": [
    "### Benchmark - SVM"
   ]
  },
  {
   "cell_type": "code",
   "execution_count": 69,
   "metadata": {},
   "outputs": [
    {
     "name": "stdout",
     "output_type": "stream",
     "text": [
      "       cuisine     id                                        ingredients  \\\n",
      "0        greek  10259  [romaine lettuce, black olives, grape tomatoes...   \n",
      "1  southern_us  25693  [plain flour, ground pepper, salt, tomatoes, g...   \n",
      "2     filipino  20130  [eggs, pepper, salt, mayonaise, cooking oil, g...   \n",
      "3       indian  22213                [water, vegetable oil, wheat, salt]   \n",
      "4       indian  13162  [black pepper, shallots, cornflour, cayenne pe...   \n",
      "\n",
      "                                 processedIngredient  \n",
      "0  [Romaine lettuc, Black ol, Grape tomato, Garli...  \n",
      "1  [Plain flour, Ground pepp, Salt, Tomato, Groun...  \n",
      "2  [Egg, Pepper, Salt, Mayonais, Cooking oil, Gre...  \n",
      "3                [Water, Vegetable oil, Wheat, Salt]  \n",
      "4  [Pepper, Shallot, Cornflour, Cayenne pepp, Oni...  \n"
     ]
    }
   ],
   "source": [
    "from sklearn.svm import LinearSVC\n",
    "print train_data_dataFrame.head()"
   ]
  },
  {
   "cell_type": "code",
   "execution_count": 57,
   "metadata": {},
   "outputs": [
    {
     "ename": "ValueError",
     "evalue": "could not convert string to float: Green chil;Jalapeno chili;Onion;Ground black pepp;Salt;Chopped cilantro fresh;Green bell pepp;Garlic;White sugar;Roma tomato;Celeri;Dried oregano",
     "output_type": "error",
     "traceback": [
      "\u001b[1;31m---------------------------------------------------------------------------\u001b[0m",
      "\u001b[1;31mValueError\u001b[0m                                Traceback (most recent call last)",
      "\u001b[1;32m<ipython-input-57-fc00dc2a6412>\u001b[0m in \u001b[0;36m<module>\u001b[1;34m()\u001b[0m\n\u001b[0;32m     10\u001b[0m \u001b[1;33m\u001b[0m\u001b[0m\n\u001b[0;32m     11\u001b[0m \u001b[1;31m#clf = LinearSVC(random_state=0, tol=1e-5)\u001b[0m\u001b[1;33m\u001b[0m\u001b[1;33m\u001b[0m\u001b[0m\n\u001b[1;32m---> 12\u001b[1;33m \u001b[0mclf\u001b[0m\u001b[1;33m.\u001b[0m\u001b[0mfit\u001b[0m\u001b[1;33m(\u001b[0m\u001b[0mX\u001b[0m\u001b[1;33m,\u001b[0m \u001b[0my\u001b[0m\u001b[1;33m)\u001b[0m\u001b[1;33m\u001b[0m\u001b[0m\n\u001b[0m",
      "\u001b[1;32mC:\\ProgramData\\Anaconda2\\lib\\site-packages\\sklearn\\svm\\classes.pyc\u001b[0m in \u001b[0;36mfit\u001b[1;34m(self, X, y, sample_weight)\u001b[0m\n\u001b[0;32m    205\u001b[0m \u001b[1;33m\u001b[0m\u001b[0m\n\u001b[0;32m    206\u001b[0m         X, y = check_X_y(X, y, accept_sparse='csr',\n\u001b[1;32m--> 207\u001b[1;33m                          dtype=np.float64, order=\"C\")\n\u001b[0m\u001b[0;32m    208\u001b[0m         \u001b[0mcheck_classification_targets\u001b[0m\u001b[1;33m(\u001b[0m\u001b[0my\u001b[0m\u001b[1;33m)\u001b[0m\u001b[1;33m\u001b[0m\u001b[0m\n\u001b[0;32m    209\u001b[0m         \u001b[0mself\u001b[0m\u001b[1;33m.\u001b[0m\u001b[0mclasses_\u001b[0m \u001b[1;33m=\u001b[0m \u001b[0mnp\u001b[0m\u001b[1;33m.\u001b[0m\u001b[0munique\u001b[0m\u001b[1;33m(\u001b[0m\u001b[0my\u001b[0m\u001b[1;33m)\u001b[0m\u001b[1;33m\u001b[0m\u001b[0m\n",
      "\u001b[1;32mC:\\ProgramData\\Anaconda2\\lib\\site-packages\\sklearn\\utils\\validation.pyc\u001b[0m in \u001b[0;36mcheck_X_y\u001b[1;34m(X, y, accept_sparse, dtype, order, copy, force_all_finite, ensure_2d, allow_nd, multi_output, ensure_min_samples, ensure_min_features, y_numeric, warn_on_dtype, estimator)\u001b[0m\n\u001b[0;32m    519\u001b[0m     X = check_array(X, accept_sparse, dtype, order, copy, force_all_finite,\n\u001b[0;32m    520\u001b[0m                     \u001b[0mensure_2d\u001b[0m\u001b[1;33m,\u001b[0m \u001b[0mallow_nd\u001b[0m\u001b[1;33m,\u001b[0m \u001b[0mensure_min_samples\u001b[0m\u001b[1;33m,\u001b[0m\u001b[1;33m\u001b[0m\u001b[0m\n\u001b[1;32m--> 521\u001b[1;33m                     ensure_min_features, warn_on_dtype, estimator)\n\u001b[0m\u001b[0;32m    522\u001b[0m     \u001b[1;32mif\u001b[0m \u001b[0mmulti_output\u001b[0m\u001b[1;33m:\u001b[0m\u001b[1;33m\u001b[0m\u001b[0m\n\u001b[0;32m    523\u001b[0m         y = check_array(y, 'csr', force_all_finite=True, ensure_2d=False,\n",
      "\u001b[1;32mC:\\ProgramData\\Anaconda2\\lib\\site-packages\\sklearn\\utils\\validation.pyc\u001b[0m in \u001b[0;36mcheck_array\u001b[1;34m(array, accept_sparse, dtype, order, copy, force_all_finite, ensure_2d, allow_nd, ensure_min_samples, ensure_min_features, warn_on_dtype, estimator)\u001b[0m\n\u001b[0;32m    380\u001b[0m                                       force_all_finite)\n\u001b[0;32m    381\u001b[0m     \u001b[1;32melse\u001b[0m\u001b[1;33m:\u001b[0m\u001b[1;33m\u001b[0m\u001b[0m\n\u001b[1;32m--> 382\u001b[1;33m         \u001b[0marray\u001b[0m \u001b[1;33m=\u001b[0m \u001b[0mnp\u001b[0m\u001b[1;33m.\u001b[0m\u001b[0marray\u001b[0m\u001b[1;33m(\u001b[0m\u001b[0marray\u001b[0m\u001b[1;33m,\u001b[0m \u001b[0mdtype\u001b[0m\u001b[1;33m=\u001b[0m\u001b[0mdtype\u001b[0m\u001b[1;33m,\u001b[0m \u001b[0morder\u001b[0m\u001b[1;33m=\u001b[0m\u001b[0morder\u001b[0m\u001b[1;33m,\u001b[0m \u001b[0mcopy\u001b[0m\u001b[1;33m=\u001b[0m\u001b[0mcopy\u001b[0m\u001b[1;33m)\u001b[0m\u001b[1;33m\u001b[0m\u001b[0m\n\u001b[0m\u001b[0;32m    383\u001b[0m \u001b[1;33m\u001b[0m\u001b[0m\n\u001b[0;32m    384\u001b[0m         \u001b[1;32mif\u001b[0m \u001b[0mensure_2d\u001b[0m\u001b[1;33m:\u001b[0m\u001b[1;33m\u001b[0m\u001b[0m\n",
      "\u001b[1;31mValueError\u001b[0m: could not convert string to float: Green chil;Jalapeno chili;Onion;Ground black pepp;Salt;Chopped cilantro fresh;Green bell pepp;Garlic;White sugar;Roma tomato;Celeri;Dried oregano"
     ]
    }
   ],
   "source": [
    "import scipy\n",
    "#sparse_mat_X = scipy.sparse.coo_matrix(train_data_dataFrame['processedIngredient'].value)\n",
    "#sparse_mat_y = scipy.sparse.coo_matrix(train_data_dataFrame['cuisine'].value)\n",
    "\n",
    "X = train_data_dataFrame['processedIngredient'].map(\";\".join)\n",
    "y = train_data_dataFrame['cuisine'].map(\";\".join)\n",
    "\n",
    "#X = train_data_dataFrame['processedIngredient'].values.ravel()\n",
    "#y = train_data_dataFrame['cuisine'].values.ravel()\n",
    "\n",
    "#clf = LinearSVC(random_state=0, tol=1e-5)\n",
    "clf.fit(X, y)"
   ]
  },
  {
   "cell_type": "code",
   "execution_count": null,
   "metadata": {
    "collapsed": true
   },
   "outputs": [],
   "source": []
  }
 ],
 "metadata": {
  "kernelspec": {
   "display_name": "Python 2",
   "language": "python",
   "name": "python2"
  },
  "language_info": {
   "codemirror_mode": {
    "name": "ipython",
    "version": 2
   },
   "file_extension": ".py",
   "mimetype": "text/x-python",
   "name": "python",
   "nbconvert_exporter": "python",
   "pygments_lexer": "ipython2",
   "version": "2.7.13"
  }
 },
 "nbformat": 4,
 "nbformat_minor": 2
}
